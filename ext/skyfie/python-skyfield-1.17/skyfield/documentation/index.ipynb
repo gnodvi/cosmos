{
 "metadata": {
  "name": "index"
 },
 "nbformat": 3,
 "nbformat_minor": 0,
 "worksheets": [
  {
   "cells": [
    {
     "cell_type": "code",
     "collapsed": false,
     "input": [
      "%pylab inline"
     ],
     "language": "python",
     "metadata": {},
     "outputs": []
    },
    {
     "cell_type": "code",
     "collapsed": false,
     "input": [
      "from skyfield.planets import Ephemeris\n",
      "import de421\n",
      "\n",
      "eph = Ephemeris(de421)\n",
      "mars = eph.mars\n",
      "print eph.earth(2414993.5)"
     ],
     "language": "python",
     "metadata": {},
     "outputs": []
    },
    {
     "cell_type": "code",
     "collapsed": false,
     "input": [
      "earth, mars = eph.earth, eph.mars"
     ],
     "language": "python",
     "metadata": {},
     "outputs": []
    },
    {
     "cell_type": "code",
     "collapsed": false,
     "input": [
      "from skyfield.timelib import julian_date\n",
      "from numpy import arange\n",
      "jd0 = julian_date(2013, 1, 1)\n",
      "y2013 = arange(jd0, jd0 + 365 // 3, 3.5)\n",
      "x, y, z = mars(y2013).position"
     ],
     "language": "python",
     "metadata": {},
     "outputs": []
    },
    {
     "cell_type": "code",
     "collapsed": false,
     "input": [
      "print mars(y2013).position.shape\n",
      "print x.shape\n",
      "print y.shape\n",
      "print z.shape"
     ],
     "language": "python",
     "metadata": {},
     "outputs": []
    },
    {
     "cell_type": "code",
     "collapsed": false,
     "input": [
      "from mpl_toolkits.mplot3d import axes3d"
     ],
     "language": "python",
     "metadata": {},
     "outputs": []
    },
    {
     "cell_type": "code",
     "collapsed": false,
     "input": [
      "fig = plt.figure(figsize=plt.figaspect(1.0)*2.0)\n",
      "ax = fig.gca(projection='3d')\n",
      "\n",
      "for planet in mars, earth, eph.venus, eph.mercury, eph.sun:\n",
      "    x, y, z = planet(y2013).position\n",
      "    ax.plot(x, y, z)\n",
      "\n",
      "for lim in ax.set_xlim, ax.set_ylim, ax.set_zlim:\n",
      "    lim(-1.3, 1.3)"
     ],
     "language": "python",
     "metadata": {},
     "outputs": []
    },
    {
     "cell_type": "code",
     "collapsed": false,
     "input": [],
     "language": "python",
     "metadata": {},
     "outputs": []
    },
    {
     "cell_type": "code",
     "collapsed": false,
     "input": [
      "earth, mars = eph.earth, eph.mars\n",
      "print earth(2414993.5).observe(mars).astrometric()"
     ],
     "language": "python",
     "metadata": {},
     "outputs": []
    },
    {
     "cell_type": "code",
     "collapsed": false,
     "input": [
      "earth(y2013).observe(mars).astrometric()"
     ],
     "language": "python",
     "metadata": {},
     "outputs": []
    },
    {
     "cell_type": "code",
     "collapsed": false,
     "input": [
      "ra, dec = earth(y2013).observe(mars).astrometric()\n",
      "plot(ra, dec)"
     ],
     "language": "python",
     "metadata": {},
     "outputs": []
    },
    {
     "cell_type": "code",
     "collapsed": false,
     "input": [],
     "language": "python",
     "metadata": {},
     "outputs": []
    }
   ],
   "metadata": {}
  }
 ]
}